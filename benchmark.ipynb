{
 "cells": [
  {
   "cell_type": "code",
   "execution_count": 1,
   "metadata": {},
   "outputs": [],
   "source": [
    "import boto3\n",
    "import json\n",
    "import requests\n",
    "from concurrent.futures import ThreadPoolExecutor\n",
    "import concurrent\n",
    "from typing import Generator, Dict, Any\n",
    "import itertools\n",
    "from urllib.parse import urlparse, parse_qs\n",
    "\n",
    "boto3.setup_default_session(profile_name='r2')\n",
    "s3_client = boto3.client('s3')\n",
    "\n",
    "image_bucket = \"salad-benchmark-public-assets\"\n",
    "bucket_domain = \"https://salad-benchmark-assets.download\""
   ]
  },
  {
   "cell_type": "code",
   "execution_count": 2,
   "metadata": {},
   "outputs": [],
   "source": [
    "def list_all_file_urls(bucket: str, prefix: str) -> Generator[str, None, None]:\n",
    "    paginator = s3_client.get_paginator('list_objects_v2')\n",
    "    page_iterator = paginator.paginate(Bucket=bucket, Prefix=prefix)\n",
    "    for page in page_iterator:\n",
    "        for content in page['Contents']:\n",
    "            yield f\"{bucket_domain}/{content['Key']}\"\n",
    "            \n",
    "\n",
    "def http_worker(request_params: Dict[str, Any]) -> requests.Response:\n",
    "    \"\"\" Function to make an HTTP request \"\"\"\n",
    "    try:\n",
    "        response = requests.request(**request_params)\n",
    "        return response\n",
    "    except requests.RequestException as e:\n",
    "        return e\n",
    "      \n",
    "\n",
    "def fetch_responses(requests_generator: Generator[Dict[str, Any], None, None], \n",
    "                    pool_size: int = 5) -> Generator[requests.Response, None, None]:\n",
    "    \"\"\" Function to manage a pool of HTTP workers \"\"\"\n",
    "    num_processed = 0\n",
    "    with ThreadPoolExecutor(max_workers=pool_size) as executor:\n",
    "        futures = [executor.submit(http_worker, params) for params in requests_generator]\n",
    "        for future in concurrent.futures.as_completed(futures):\n",
    "            num_processed += 1\n",
    "            if num_processed % 100 == 0:\n",
    "                print(f\"Processed {num_processed} requests\")\n",
    "            yield future.result()"
   ]
  },
  {
   "cell_type": "code",
   "execution_count": 3,
   "metadata": {},
   "outputs": [],
   "source": [
    "image_tagging_api = \"https://orange-splitpea-kunklrrfjwnyterv.salad.cloud\"\n",
    "\n",
    "def all_requests():\n",
    "    for url in list_all_file_urls(image_bucket, \"coco2017/train2017/\"):\n",
    "        yield {\n",
    "          \"method\": \"GET\",\n",
    "          \"url\": f\"{image_tagging_api}/tag\",\n",
    "          \"params\": {\"url\": url}\n",
    "        }\n",
    "    for url in list_all_file_urls(image_bucket, \"ava/images/\"):\n",
    "        yield {\n",
    "          \"method\": \"GET\",\n",
    "          \"url\": f\"{image_tagging_api}/tag\",\n",
    "          \"params\": {\"url\": url}\n",
    "        }\n",
    "        \n",
    "def get_image_url_from_response(response: requests.Response) -> str:\n",
    "    return parse_qs(urlparse(response.request.url).query)[\"url\"][0]\n",
    "    \n",
    "    \n",
    "def get_rows(request_generator):\n",
    "    for response in fetch_responses(request_generator, pool_size=80):\n",
    "        body = response.json()\n",
    "        body[\"image_url\"] = get_image_url_from_response(response)\n",
    "        salad_headers = [header for header in response.headers if header in [\"x-gpu-name\", \"x-salad-machine-id\", \"x-salad-container-group-id\", \"x-inference-time\", \"x-image-download-time\"]]\n",
    "        for header in salad_headers:\n",
    "            body[header] = response.headers[header]\n",
    "        yield body"
   ]
  },
  {
   "cell_type": "code",
   "execution_count": 4,
   "metadata": {},
   "outputs": [
    {
     "name": "stdout",
     "output_type": "stream",
     "text": [
      "Total number of requests: 373795\n"
     ]
    }
   ],
   "source": [
    "list_of_all_requests = list(all_requests())\n",
    "print(f\"Total number of requests: {len(list_of_all_requests)}\")\n",
    "with open(\"all_requests.json\", \"w\") as f:\n",
    "    json.dump(list_of_all_requests, f)"
   ]
  },
  {
   "cell_type": "code",
   "execution_count": null,
   "metadata": {},
   "outputs": [],
   "source": [
    "import pandas as pd\n",
    "\n",
    "df = pd.DataFrame(get_rows(list_of_all_requests))\n",
    "df.to_csv(\"all_requests.csv\", index=False)"
   ]
  }
 ],
 "metadata": {
  "kernelspec": {
   "display_name": ".venv",
   "language": "python",
   "name": "python3"
  },
  "language_info": {
   "codemirror_mode": {
    "name": "ipython",
    "version": 3
   },
   "file_extension": ".py",
   "mimetype": "text/x-python",
   "name": "python",
   "nbconvert_exporter": "python",
   "pygments_lexer": "ipython3",
   "version": "3.10.12"
  }
 },
 "nbformat": 4,
 "nbformat_minor": 2
}
