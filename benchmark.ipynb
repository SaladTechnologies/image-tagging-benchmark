{
 "cells": [
  {
   "cell_type": "code",
   "execution_count": 1,
   "metadata": {},
   "outputs": [],
   "source": [
    "import boto3\n",
    "import json\n",
    "import requests\n",
    "from concurrent.futures import ThreadPoolExecutor\n",
    "import concurrent\n",
    "from typing import Generator, Dict, Any\n",
    "import itertools\n",
    "from urllib.parse import urlparse, parse_qs\n",
    "import os\n",
    "from requests.adapters import HTTPAdapter\n",
    "from urllib3.util.retry import Retry\n",
    "import pandas as pd\n",
    "\n",
    "\n",
    "boto3.setup_default_session(profile_name='r2')\n",
    "s3_client = boto3.client('s3')\n",
    "\n",
    "image_bucket = \"salad-benchmark-public-assets\"\n",
    "bucket_domain = \"https://salad-benchmark-assets.download\""
   ]
  },
  {
   "cell_type": "code",
   "execution_count": 2,
   "metadata": {},
   "outputs": [],
   "source": [
    "def list_all_file_urls(bucket: str, prefix: str) -> Generator[str, None, None]:\n",
    "    paginator = s3_client.get_paginator('list_objects_v2')\n",
    "    page_iterator = paginator.paginate(Bucket=bucket, Prefix=prefix)\n",
    "    for page in page_iterator:\n",
    "        for content in page['Contents']:\n",
    "            yield f\"{bucket_domain}/{content['Key']}\"\n",
    "            \n",
    "def create_session(max_retries=3, backoff_factor=0.3):\n",
    "    \"\"\"\n",
    "    Create a requests session with retry strategy.\n",
    "    :param max_retries: Maximum number of retries for each request.\n",
    "    :param backoff_factor: A backoff factor to apply between attempts.\n",
    "    :param status_forcelist: A set of HTTP status codes that we should force a retry on.\n",
    "    :return: A requests session object.\n",
    "    \"\"\"\n",
    "    session = requests.Session()\n",
    "    retries = Retry(total=max_retries,\n",
    "                    read=max_retries,\n",
    "                    connect=max_retries,\n",
    "                    backoff_factor=backoff_factor,\n",
    "                    status_forcelist=[i for i in range(500, 600)],\n",
    "                    respect_retry_after_header=True\n",
    "                    )\n",
    "    adapter = HTTPAdapter(max_retries=retries)\n",
    "    session.mount('http://', adapter)\n",
    "    session.mount('https://', adapter)\n",
    "    return session\n",
    "\n",
    "# Usage\n",
    "session = create_session()\n",
    "            \n",
    "num_requests = 0\n",
    "num_responses = 0\n",
    "def http_worker(request_params: Dict[str, Any]) -> requests.Response:\n",
    "    \"\"\" Function to make an HTTP request \"\"\"\n",
    "    global num_requests, num_responses\n",
    "    num_requests += 1\n",
    "    print(f\"\\r{num_requests} submitted | {num_responses} responses\", end=\"\", flush=True)\n",
    "    response = session.request(**request_params)\n",
    "    num_responses += 1\n",
    "    return response\n",
    "      \n",
    "def chunk_list(lst, chunk_size):\n",
    "    \"\"\"Yield successive chunks of chunk_size from lst.\"\"\"\n",
    "    for i in range(0, len(lst), chunk_size):\n",
    "        yield lst[i:i + chunk_size]\n",
    "\n",
    "def fetch_responses(requests_generator: Generator[Dict[str, Any], None, None], \n",
    "                    pool_size: int = 5) -> Generator[requests.Response, None, None]:\n",
    "    \"\"\" Function to manage a pool of HTTP workers \"\"\"\n",
    "    \n",
    "    with ThreadPoolExecutor(max_workers=pool_size) as executor:\n",
    "        # Chunk the requests into groups of (pool_size * 10)\n",
    "        for chunk in chunk_list(requests_generator, pool_size * 10):\n",
    "            futures = [executor.submit(http_worker, params) for params in chunk]\n",
    "            for future in concurrent.futures.as_completed(futures):\n",
    "                yield future.result()"
   ]
  },
  {
   "cell_type": "code",
   "execution_count": 3,
   "metadata": {},
   "outputs": [],
   "source": [
    "image_tagging_api = \"https://orange-splitpea-kunklrrfjwnyterv.salad.cloud\"\n",
    "\n",
    "def all_requests():\n",
    "    for url in list_all_file_urls(image_bucket, \"coco2017/train2017/\"):\n",
    "        yield {\n",
    "          \"method\": \"GET\",\n",
    "          \"url\": f\"{image_tagging_api}/tag\",\n",
    "          \"params\": {\"url\": url}\n",
    "        }\n",
    "    for url in list_all_file_urls(image_bucket, \"ava/images/\"):\n",
    "        yield {\n",
    "          \"method\": \"GET\",\n",
    "          \"url\": f\"{image_tagging_api}/tag\",\n",
    "          \"params\": {\"url\": url}\n",
    "        }\n",
    "        \n",
    "def get_image_url_from_response(response: requests.Response) -> str:\n",
    "    return parse_qs(urlparse(response.request.url).query)[\"url\"][0]\n",
    "    \n",
    "    \n",
    "def get_rows(request_generator):\n",
    "    for response in fetch_responses(request_generator, pool_size=50):\n",
    "        if response.status_code != 200:\n",
    "            raise Exception(f\"Error: {response.status_code} {response.reason}\")\n",
    "        body = response.json()\n",
    "        body[\"image_url\"] = get_image_url_from_response(response)\n",
    "        salad_headers = [header for header in response.headers if header in [\"x-gpu-name\", \"x-salad-machine-id\", \"x-salad-container-group-id\", \"x-inference-time\", \"x-image-download-time\"]]\n",
    "        for header in salad_headers:\n",
    "            body[header] = response.headers[header]\n",
    "        yield body"
   ]
  },
  {
   "cell_type": "code",
   "execution_count": 4,
   "metadata": {},
   "outputs": [
    {
     "name": "stdout",
     "output_type": "stream",
     "text": [
      "Total number of requests: 373795\n"
     ]
    }
   ],
   "source": [
    "request_list_cache_file = \"all_requests.json\"\n",
    "\n",
    "if os.path.exists(request_list_cache_file):\n",
    "    with open(request_list_cache_file) as f:\n",
    "        list_of_all_requests = json.load(f)\n",
    "else:\n",
    "    list_of_all_requests = list(all_requests())\n",
    "    with open(\"all_requests.json\", \"w\") as f:\n",
    "        json.dump(list_of_all_requests, f)\n",
    "print(f\"Total number of requests: {len(list_of_all_requests)}\")\n"
   ]
  },
  {
   "cell_type": "code",
   "execution_count": 5,
   "metadata": {},
   "outputs": [
    {
     "name": "stdout",
     "output_type": "stream",
     "text": [
      "Total number of rows: 144485\n"
     ]
    }
   ],
   "source": [
    "row_file = \"all_rows.jsonl\"\n",
    "if os.path.exists(row_file):\n",
    "    with open(row_file) as f:\n",
    "        rows = [json.loads(line) for line in f]\n",
    "else:\n",
    "    rows = []\n",
    "    with open(row_file, \"w\") as f:\n",
    "        for row in get_rows(list_of_all_requests):\n",
    "            f.write(json.dumps(row) + \"\\n\")\n",
    "            rows.append(row)\n",
    "            \n",
    "print(f\"Total number of rows: {len(rows)}\")\n"
   ]
  },
  {
   "cell_type": "code",
   "execution_count": 6,
   "metadata": {},
   "outputs": [
    {
     "data": {
      "text/html": [
       "<div>\n",
       "<style scoped>\n",
       "    .dataframe tbody tr th:only-of-type {\n",
       "        vertical-align: middle;\n",
       "    }\n",
       "\n",
       "    .dataframe tbody tr th {\n",
       "        vertical-align: top;\n",
       "    }\n",
       "\n",
       "    .dataframe thead th {\n",
       "        text-align: right;\n",
       "    }\n",
       "</style>\n",
       "<table border=\"1\" class=\"dataframe\">\n",
       "  <thead>\n",
       "    <tr style=\"text-align: right;\">\n",
       "      <th></th>\n",
       "      <th>tags</th>\n",
       "      <th>image_url</th>\n",
       "      <th>x-salad-machine-id</th>\n",
       "      <th>x-salad-container-group-id</th>\n",
       "      <th>x-gpu-name</th>\n",
       "      <th>x-inference-time</th>\n",
       "      <th>x-image-download-time</th>\n",
       "    </tr>\n",
       "  </thead>\n",
       "  <tbody>\n",
       "    <tr>\n",
       "      <th>0</th>\n",
       "      <td>[Close-up]</td>\n",
       "      <td>https://salad-benchmark-assets.download/coco20...</td>\n",
       "      <td>10a8f298-321a-4a55-a75f-d52b81aede93</td>\n",
       "      <td>1897e5ba-ae3f-4322-939f-fc3b4fdb8507</td>\n",
       "      <td>NVIDIA GeForce RTX 3060 Ti</td>\n",
       "      <td>0.2417</td>\n",
       "      <td>0.1154</td>\n",
       "    </tr>\n",
       "    <tr>\n",
       "      <th>1</th>\n",
       "      <td>[Close-up, Plant stem]</td>\n",
       "      <td>https://salad-benchmark-assets.download/coco20...</td>\n",
       "      <td>01031b4a-4424-9551-97aa-4a74c5ed172f</td>\n",
       "      <td>1897e5ba-ae3f-4322-939f-fc3b4fdb8507</td>\n",
       "      <td>NVIDIA GeForce RTX 4070</td>\n",
       "      <td>0.0311</td>\n",
       "      <td>0.2113</td>\n",
       "    </tr>\n",
       "    <tr>\n",
       "      <th>2</th>\n",
       "      <td>[Close-up, Leaf vegetable, Vegetarian food]</td>\n",
       "      <td>https://salad-benchmark-assets.download/coco20...</td>\n",
       "      <td>378781b8-1691-f95e-9454-02e23449a47b</td>\n",
       "      <td>1897e5ba-ae3f-4322-939f-fc3b4fdb8507</td>\n",
       "      <td>NVIDIA GeForce RTX 4070</td>\n",
       "      <td>0.3527</td>\n",
       "      <td>0.1609</td>\n",
       "    </tr>\n",
       "    <tr>\n",
       "      <th>3</th>\n",
       "      <td>[Black-and-white, Close-up, Digital camera]</td>\n",
       "      <td>https://salad-benchmark-assets.download/coco20...</td>\n",
       "      <td>ad04804a-eab8-1159-b566-970756ac0b26</td>\n",
       "      <td>1897e5ba-ae3f-4322-939f-fc3b4fdb8507</td>\n",
       "      <td>NVIDIA GeForce RTX 4070</td>\n",
       "      <td>0.0328</td>\n",
       "      <td>0.3307</td>\n",
       "    </tr>\n",
       "    <tr>\n",
       "      <th>4</th>\n",
       "      <td>[Jeans]</td>\n",
       "      <td>https://salad-benchmark-assets.download/coco20...</td>\n",
       "      <td>4276c021-3b95-5e50-9d8e-0924b882ee5d</td>\n",
       "      <td>1897e5ba-ae3f-4322-939f-fc3b4fdb8507</td>\n",
       "      <td>NVIDIA GeForce RTX 3070</td>\n",
       "      <td>0.2407</td>\n",
       "      <td>0.2163</td>\n",
       "    </tr>\n",
       "    <tr>\n",
       "      <th>...</th>\n",
       "      <td>...</td>\n",
       "      <td>...</td>\n",
       "      <td>...</td>\n",
       "      <td>...</td>\n",
       "      <td>...</td>\n",
       "      <td>...</td>\n",
       "      <td>...</td>\n",
       "    </tr>\n",
       "    <tr>\n",
       "      <th>144480</th>\n",
       "      <td>[Arthropod, Black-and-white, Close-up, Plant s...</td>\n",
       "      <td>https://salad-benchmark-assets.download/ava/im...</td>\n",
       "      <td>c380c652-b346-5e58-8ef5-c637f74b7d30</td>\n",
       "      <td>1897e5ba-ae3f-4322-939f-fc3b4fdb8507</td>\n",
       "      <td>NVIDIA GeForce RTX 3060</td>\n",
       "      <td>0.2322</td>\n",
       "      <td>0.4679</td>\n",
       "    </tr>\n",
       "    <tr>\n",
       "      <th>144481</th>\n",
       "      <td>[Close-up]</td>\n",
       "      <td>https://salad-benchmark-assets.download/ava/im...</td>\n",
       "      <td>1185b629-585e-2b50-a136-db9ff806799b</td>\n",
       "      <td>1897e5ba-ae3f-4322-939f-fc3b4fdb8507</td>\n",
       "      <td>NVIDIA GeForce RTX 4070 Ti</td>\n",
       "      <td>0.0365</td>\n",
       "      <td>0.7660</td>\n",
       "    </tr>\n",
       "    <tr>\n",
       "      <th>144482</th>\n",
       "      <td>[Close-up]</td>\n",
       "      <td>https://salad-benchmark-assets.download/ava/im...</td>\n",
       "      <td>77a3060e-5844-fc51-9547-37ea0c733ae1</td>\n",
       "      <td>1897e5ba-ae3f-4322-939f-fc3b4fdb8507</td>\n",
       "      <td>NVIDIA GeForce RTX 4080</td>\n",
       "      <td>0.2103</td>\n",
       "      <td>0.5672</td>\n",
       "    </tr>\n",
       "    <tr>\n",
       "      <th>144483</th>\n",
       "      <td>[Close-up, Cobblestone, Plant stem]</td>\n",
       "      <td>https://salad-benchmark-assets.download/ava/im...</td>\n",
       "      <td>c8206b04-901d-8753-a5f8-4132dd4ce440</td>\n",
       "      <td>1897e5ba-ae3f-4322-939f-fc3b4fdb8507</td>\n",
       "      <td>NVIDIA GeForce RTX 3060</td>\n",
       "      <td>0.3511</td>\n",
       "      <td>1.4748</td>\n",
       "    </tr>\n",
       "    <tr>\n",
       "      <th>144484</th>\n",
       "      <td>[Black-and-white, Close-up, Holding hands]</td>\n",
       "      <td>https://salad-benchmark-assets.download/ava/im...</td>\n",
       "      <td>c08f2da1-9626-6f5b-a9db-c0f80719d294</td>\n",
       "      <td>1897e5ba-ae3f-4322-939f-fc3b4fdb8507</td>\n",
       "      <td>NVIDIA GeForce RTX 3090</td>\n",
       "      <td>0.2625</td>\n",
       "      <td>1.2504</td>\n",
       "    </tr>\n",
       "  </tbody>\n",
       "</table>\n",
       "<p>144485 rows × 7 columns</p>\n",
       "</div>"
      ],
      "text/plain": [
       "                                                     tags  \\\n",
       "0                                              [Close-up]   \n",
       "1                                  [Close-up, Plant stem]   \n",
       "2             [Close-up, Leaf vegetable, Vegetarian food]   \n",
       "3             [Black-and-white, Close-up, Digital camera]   \n",
       "4                                                 [Jeans]   \n",
       "...                                                   ...   \n",
       "144480  [Arthropod, Black-and-white, Close-up, Plant s...   \n",
       "144481                                         [Close-up]   \n",
       "144482                                         [Close-up]   \n",
       "144483                [Close-up, Cobblestone, Plant stem]   \n",
       "144484         [Black-and-white, Close-up, Holding hands]   \n",
       "\n",
       "                                                image_url  \\\n",
       "0       https://salad-benchmark-assets.download/coco20...   \n",
       "1       https://salad-benchmark-assets.download/coco20...   \n",
       "2       https://salad-benchmark-assets.download/coco20...   \n",
       "3       https://salad-benchmark-assets.download/coco20...   \n",
       "4       https://salad-benchmark-assets.download/coco20...   \n",
       "...                                                   ...   \n",
       "144480  https://salad-benchmark-assets.download/ava/im...   \n",
       "144481  https://salad-benchmark-assets.download/ava/im...   \n",
       "144482  https://salad-benchmark-assets.download/ava/im...   \n",
       "144483  https://salad-benchmark-assets.download/ava/im...   \n",
       "144484  https://salad-benchmark-assets.download/ava/im...   \n",
       "\n",
       "                          x-salad-machine-id  \\\n",
       "0       10a8f298-321a-4a55-a75f-d52b81aede93   \n",
       "1       01031b4a-4424-9551-97aa-4a74c5ed172f   \n",
       "2       378781b8-1691-f95e-9454-02e23449a47b   \n",
       "3       ad04804a-eab8-1159-b566-970756ac0b26   \n",
       "4       4276c021-3b95-5e50-9d8e-0924b882ee5d   \n",
       "...                                      ...   \n",
       "144480  c380c652-b346-5e58-8ef5-c637f74b7d30   \n",
       "144481  1185b629-585e-2b50-a136-db9ff806799b   \n",
       "144482  77a3060e-5844-fc51-9547-37ea0c733ae1   \n",
       "144483  c8206b04-901d-8753-a5f8-4132dd4ce440   \n",
       "144484  c08f2da1-9626-6f5b-a9db-c0f80719d294   \n",
       "\n",
       "                  x-salad-container-group-id                  x-gpu-name  \\\n",
       "0       1897e5ba-ae3f-4322-939f-fc3b4fdb8507  NVIDIA GeForce RTX 3060 Ti   \n",
       "1       1897e5ba-ae3f-4322-939f-fc3b4fdb8507     NVIDIA GeForce RTX 4070   \n",
       "2       1897e5ba-ae3f-4322-939f-fc3b4fdb8507     NVIDIA GeForce RTX 4070   \n",
       "3       1897e5ba-ae3f-4322-939f-fc3b4fdb8507     NVIDIA GeForce RTX 4070   \n",
       "4       1897e5ba-ae3f-4322-939f-fc3b4fdb8507     NVIDIA GeForce RTX 3070   \n",
       "...                                      ...                         ...   \n",
       "144480  1897e5ba-ae3f-4322-939f-fc3b4fdb8507     NVIDIA GeForce RTX 3060   \n",
       "144481  1897e5ba-ae3f-4322-939f-fc3b4fdb8507  NVIDIA GeForce RTX 4070 Ti   \n",
       "144482  1897e5ba-ae3f-4322-939f-fc3b4fdb8507     NVIDIA GeForce RTX 4080   \n",
       "144483  1897e5ba-ae3f-4322-939f-fc3b4fdb8507     NVIDIA GeForce RTX 3060   \n",
       "144484  1897e5ba-ae3f-4322-939f-fc3b4fdb8507     NVIDIA GeForce RTX 3090   \n",
       "\n",
       "       x-inference-time x-image-download-time  \n",
       "0                0.2417                0.1154  \n",
       "1                0.0311                0.2113  \n",
       "2                0.3527                0.1609  \n",
       "3                0.0328                0.3307  \n",
       "4                0.2407                0.2163  \n",
       "...                 ...                   ...  \n",
       "144480           0.2322                0.4679  \n",
       "144481           0.0365                0.7660  \n",
       "144482           0.2103                0.5672  \n",
       "144483           0.3511                1.4748  \n",
       "144484           0.2625                1.2504  \n",
       "\n",
       "[144485 rows x 7 columns]"
      ]
     },
     "execution_count": 6,
     "metadata": {},
     "output_type": "execute_result"
    }
   ],
   "source": [
    "df = pd.DataFrame(rows)\n",
    "df"
   ]
  },
  {
   "cell_type": "code",
   "execution_count": 7,
   "metadata": {},
   "outputs": [
    {
     "name": "stdout",
     "output_type": "stream",
     "text": [
      "Number of unique machines: 167\n"
     ]
    }
   ],
   "source": [
    "num_machines = len(df[\"x-salad-machine-id\"].unique())\n",
    "print(f\"Number of unique machines: {num_machines}\")"
   ]
  },
  {
   "cell_type": "code",
   "execution_count": 8,
   "metadata": {},
   "outputs": [
    {
     "name": "stdout",
     "output_type": "stream",
     "text": [
      "Number of unique GPU types: 20\n",
      "GPU types: ['NVIDIA GeForce RTX 2080', 'NVIDIA GeForce RTX 2080 SUPER', 'NVIDIA GeForce RTX 2080 Ti', 'NVIDIA GeForce RTX 3060', 'NVIDIA GeForce RTX 3060 Ti', 'NVIDIA GeForce RTX 3070', 'NVIDIA GeForce RTX 3070 Laptop GPU', 'NVIDIA GeForce RTX 3070 Ti', 'NVIDIA GeForce RTX 3080', 'NVIDIA GeForce RTX 3080 Laptop GPU', 'NVIDIA GeForce RTX 3080 Ti', 'NVIDIA GeForce RTX 3090', 'NVIDIA GeForce RTX 4060', 'NVIDIA GeForce RTX 4060 Laptop GPU', 'NVIDIA GeForce RTX 4060 Ti', 'NVIDIA GeForce RTX 4070', 'NVIDIA GeForce RTX 4070 Laptop GPU', 'NVIDIA GeForce RTX 4070 Ti', 'NVIDIA GeForce RTX 4080', 'NVIDIA GeForce RTX 4090']\n"
     ]
    }
   ],
   "source": [
    "gpu_types = sorted(df[\"x-gpu-name\"].unique())\n",
    "num_gpu_types = len(gpu_types)\n",
    "print(f\"Number of unique GPU types: {num_gpu_types}\")\n",
    "print(f\"GPU types: {gpu_types}\")"
   ]
  },
  {
   "cell_type": "code",
   "execution_count": 18,
   "metadata": {},
   "outputs": [
    {
     "data": {
      "application/vnd.plotly.v1+json": {
       "config": {
        "plotlyServerURL": "https://plot.ly"
       },
       "data": [
        {
         "alignmentgroup": "True",
         "hovertemplate": "x-gpu-name=%{x}<br>count=%{y}<extra></extra>",
         "legendgroup": "",
         "marker": {
          "color": "#636efa",
          "pattern": {
           "shape": ""
          }
         },
         "name": "",
         "offsetgroup": "",
         "orientation": "v",
         "showlegend": false,
         "textposition": "auto",
         "type": "bar",
         "x": [
          "RTX 2080",
          "RTX 2080 SUPER",
          "RTX 2080 Ti",
          "RTX 3060",
          "RTX 3060 Ti",
          "RTX 3070",
          "RTX 3070 Laptop GPU",
          "RTX 3070 Ti",
          "RTX 3080",
          "RTX 3080 Laptop GPU",
          "RTX 3080 Ti",
          "RTX 3090",
          "RTX 4060",
          "RTX 4060 Laptop GPU",
          "RTX 4060 Ti",
          "RTX 4070",
          "RTX 4070 Laptop GPU",
          "RTX 4070 Ti",
          "RTX 4080",
          "RTX 4090"
         ],
         "xaxis": "x",
         "y": [
          1323,
          1207,
          1880,
          74100,
          9346,
          18136,
          1691,
          2323,
          6219,
          220,
          4017,
          2007,
          4632,
          30,
          5315,
          6351,
          448,
          2449,
          2268,
          523
         ],
         "yaxis": "y"
        }
       ],
       "layout": {
        "barmode": "relative",
        "legend": {
         "tracegroupgap": 0
        },
        "template": {
         "data": {
          "bar": [
           {
            "error_x": {
             "color": "#2a3f5f"
            },
            "error_y": {
             "color": "#2a3f5f"
            },
            "marker": {
             "line": {
              "color": "#E5ECF6",
              "width": 0.5
             },
             "pattern": {
              "fillmode": "overlay",
              "size": 10,
              "solidity": 0.2
             }
            },
            "type": "bar"
           }
          ],
          "barpolar": [
           {
            "marker": {
             "line": {
              "color": "#E5ECF6",
              "width": 0.5
             },
             "pattern": {
              "fillmode": "overlay",
              "size": 10,
              "solidity": 0.2
             }
            },
            "type": "barpolar"
           }
          ],
          "carpet": [
           {
            "aaxis": {
             "endlinecolor": "#2a3f5f",
             "gridcolor": "white",
             "linecolor": "white",
             "minorgridcolor": "white",
             "startlinecolor": "#2a3f5f"
            },
            "baxis": {
             "endlinecolor": "#2a3f5f",
             "gridcolor": "white",
             "linecolor": "white",
             "minorgridcolor": "white",
             "startlinecolor": "#2a3f5f"
            },
            "type": "carpet"
           }
          ],
          "choropleth": [
           {
            "colorbar": {
             "outlinewidth": 0,
             "ticks": ""
            },
            "type": "choropleth"
           }
          ],
          "contour": [
           {
            "colorbar": {
             "outlinewidth": 0,
             "ticks": ""
            },
            "colorscale": [
             [
              0,
              "#0d0887"
             ],
             [
              0.1111111111111111,
              "#46039f"
             ],
             [
              0.2222222222222222,
              "#7201a8"
             ],
             [
              0.3333333333333333,
              "#9c179e"
             ],
             [
              0.4444444444444444,
              "#bd3786"
             ],
             [
              0.5555555555555556,
              "#d8576b"
             ],
             [
              0.6666666666666666,
              "#ed7953"
             ],
             [
              0.7777777777777778,
              "#fb9f3a"
             ],
             [
              0.8888888888888888,
              "#fdca26"
             ],
             [
              1,
              "#f0f921"
             ]
            ],
            "type": "contour"
           }
          ],
          "contourcarpet": [
           {
            "colorbar": {
             "outlinewidth": 0,
             "ticks": ""
            },
            "type": "contourcarpet"
           }
          ],
          "heatmap": [
           {
            "colorbar": {
             "outlinewidth": 0,
             "ticks": ""
            },
            "colorscale": [
             [
              0,
              "#0d0887"
             ],
             [
              0.1111111111111111,
              "#46039f"
             ],
             [
              0.2222222222222222,
              "#7201a8"
             ],
             [
              0.3333333333333333,
              "#9c179e"
             ],
             [
              0.4444444444444444,
              "#bd3786"
             ],
             [
              0.5555555555555556,
              "#d8576b"
             ],
             [
              0.6666666666666666,
              "#ed7953"
             ],
             [
              0.7777777777777778,
              "#fb9f3a"
             ],
             [
              0.8888888888888888,
              "#fdca26"
             ],
             [
              1,
              "#f0f921"
             ]
            ],
            "type": "heatmap"
           }
          ],
          "heatmapgl": [
           {
            "colorbar": {
             "outlinewidth": 0,
             "ticks": ""
            },
            "colorscale": [
             [
              0,
              "#0d0887"
             ],
             [
              0.1111111111111111,
              "#46039f"
             ],
             [
              0.2222222222222222,
              "#7201a8"
             ],
             [
              0.3333333333333333,
              "#9c179e"
             ],
             [
              0.4444444444444444,
              "#bd3786"
             ],
             [
              0.5555555555555556,
              "#d8576b"
             ],
             [
              0.6666666666666666,
              "#ed7953"
             ],
             [
              0.7777777777777778,
              "#fb9f3a"
             ],
             [
              0.8888888888888888,
              "#fdca26"
             ],
             [
              1,
              "#f0f921"
             ]
            ],
            "type": "heatmapgl"
           }
          ],
          "histogram": [
           {
            "marker": {
             "pattern": {
              "fillmode": "overlay",
              "size": 10,
              "solidity": 0.2
             }
            },
            "type": "histogram"
           }
          ],
          "histogram2d": [
           {
            "colorbar": {
             "outlinewidth": 0,
             "ticks": ""
            },
            "colorscale": [
             [
              0,
              "#0d0887"
             ],
             [
              0.1111111111111111,
              "#46039f"
             ],
             [
              0.2222222222222222,
              "#7201a8"
             ],
             [
              0.3333333333333333,
              "#9c179e"
             ],
             [
              0.4444444444444444,
              "#bd3786"
             ],
             [
              0.5555555555555556,
              "#d8576b"
             ],
             [
              0.6666666666666666,
              "#ed7953"
             ],
             [
              0.7777777777777778,
              "#fb9f3a"
             ],
             [
              0.8888888888888888,
              "#fdca26"
             ],
             [
              1,
              "#f0f921"
             ]
            ],
            "type": "histogram2d"
           }
          ],
          "histogram2dcontour": [
           {
            "colorbar": {
             "outlinewidth": 0,
             "ticks": ""
            },
            "colorscale": [
             [
              0,
              "#0d0887"
             ],
             [
              0.1111111111111111,
              "#46039f"
             ],
             [
              0.2222222222222222,
              "#7201a8"
             ],
             [
              0.3333333333333333,
              "#9c179e"
             ],
             [
              0.4444444444444444,
              "#bd3786"
             ],
             [
              0.5555555555555556,
              "#d8576b"
             ],
             [
              0.6666666666666666,
              "#ed7953"
             ],
             [
              0.7777777777777778,
              "#fb9f3a"
             ],
             [
              0.8888888888888888,
              "#fdca26"
             ],
             [
              1,
              "#f0f921"
             ]
            ],
            "type": "histogram2dcontour"
           }
          ],
          "mesh3d": [
           {
            "colorbar": {
             "outlinewidth": 0,
             "ticks": ""
            },
            "type": "mesh3d"
           }
          ],
          "parcoords": [
           {
            "line": {
             "colorbar": {
              "outlinewidth": 0,
              "ticks": ""
             }
            },
            "type": "parcoords"
           }
          ],
          "pie": [
           {
            "automargin": true,
            "type": "pie"
           }
          ],
          "scatter": [
           {
            "fillpattern": {
             "fillmode": "overlay",
             "size": 10,
             "solidity": 0.2
            },
            "type": "scatter"
           }
          ],
          "scatter3d": [
           {
            "line": {
             "colorbar": {
              "outlinewidth": 0,
              "ticks": ""
             }
            },
            "marker": {
             "colorbar": {
              "outlinewidth": 0,
              "ticks": ""
             }
            },
            "type": "scatter3d"
           }
          ],
          "scattercarpet": [
           {
            "marker": {
             "colorbar": {
              "outlinewidth": 0,
              "ticks": ""
             }
            },
            "type": "scattercarpet"
           }
          ],
          "scattergeo": [
           {
            "marker": {
             "colorbar": {
              "outlinewidth": 0,
              "ticks": ""
             }
            },
            "type": "scattergeo"
           }
          ],
          "scattergl": [
           {
            "marker": {
             "colorbar": {
              "outlinewidth": 0,
              "ticks": ""
             }
            },
            "type": "scattergl"
           }
          ],
          "scattermapbox": [
           {
            "marker": {
             "colorbar": {
              "outlinewidth": 0,
              "ticks": ""
             }
            },
            "type": "scattermapbox"
           }
          ],
          "scatterpolar": [
           {
            "marker": {
             "colorbar": {
              "outlinewidth": 0,
              "ticks": ""
             }
            },
            "type": "scatterpolar"
           }
          ],
          "scatterpolargl": [
           {
            "marker": {
             "colorbar": {
              "outlinewidth": 0,
              "ticks": ""
             }
            },
            "type": "scatterpolargl"
           }
          ],
          "scatterternary": [
           {
            "marker": {
             "colorbar": {
              "outlinewidth": 0,
              "ticks": ""
             }
            },
            "type": "scatterternary"
           }
          ],
          "surface": [
           {
            "colorbar": {
             "outlinewidth": 0,
             "ticks": ""
            },
            "colorscale": [
             [
              0,
              "#0d0887"
             ],
             [
              0.1111111111111111,
              "#46039f"
             ],
             [
              0.2222222222222222,
              "#7201a8"
             ],
             [
              0.3333333333333333,
              "#9c179e"
             ],
             [
              0.4444444444444444,
              "#bd3786"
             ],
             [
              0.5555555555555556,
              "#d8576b"
             ],
             [
              0.6666666666666666,
              "#ed7953"
             ],
             [
              0.7777777777777778,
              "#fb9f3a"
             ],
             [
              0.8888888888888888,
              "#fdca26"
             ],
             [
              1,
              "#f0f921"
             ]
            ],
            "type": "surface"
           }
          ],
          "table": [
           {
            "cells": {
             "fill": {
              "color": "#EBF0F8"
             },
             "line": {
              "color": "white"
             }
            },
            "header": {
             "fill": {
              "color": "#C8D4E3"
             },
             "line": {
              "color": "white"
             }
            },
            "type": "table"
           }
          ]
         },
         "layout": {
          "annotationdefaults": {
           "arrowcolor": "#2a3f5f",
           "arrowhead": 0,
           "arrowwidth": 1
          },
          "autotypenumbers": "strict",
          "coloraxis": {
           "colorbar": {
            "outlinewidth": 0,
            "ticks": ""
           }
          },
          "colorscale": {
           "diverging": [
            [
             0,
             "#8e0152"
            ],
            [
             0.1,
             "#c51b7d"
            ],
            [
             0.2,
             "#de77ae"
            ],
            [
             0.3,
             "#f1b6da"
            ],
            [
             0.4,
             "#fde0ef"
            ],
            [
             0.5,
             "#f7f7f7"
            ],
            [
             0.6,
             "#e6f5d0"
            ],
            [
             0.7,
             "#b8e186"
            ],
            [
             0.8,
             "#7fbc41"
            ],
            [
             0.9,
             "#4d9221"
            ],
            [
             1,
             "#276419"
            ]
           ],
           "sequential": [
            [
             0,
             "#0d0887"
            ],
            [
             0.1111111111111111,
             "#46039f"
            ],
            [
             0.2222222222222222,
             "#7201a8"
            ],
            [
             0.3333333333333333,
             "#9c179e"
            ],
            [
             0.4444444444444444,
             "#bd3786"
            ],
            [
             0.5555555555555556,
             "#d8576b"
            ],
            [
             0.6666666666666666,
             "#ed7953"
            ],
            [
             0.7777777777777778,
             "#fb9f3a"
            ],
            [
             0.8888888888888888,
             "#fdca26"
            ],
            [
             1,
             "#f0f921"
            ]
           ],
           "sequentialminus": [
            [
             0,
             "#0d0887"
            ],
            [
             0.1111111111111111,
             "#46039f"
            ],
            [
             0.2222222222222222,
             "#7201a8"
            ],
            [
             0.3333333333333333,
             "#9c179e"
            ],
            [
             0.4444444444444444,
             "#bd3786"
            ],
            [
             0.5555555555555556,
             "#d8576b"
            ],
            [
             0.6666666666666666,
             "#ed7953"
            ],
            [
             0.7777777777777778,
             "#fb9f3a"
            ],
            [
             0.8888888888888888,
             "#fdca26"
            ],
            [
             1,
             "#f0f921"
            ]
           ]
          },
          "colorway": [
           "#636efa",
           "#EF553B",
           "#00cc96",
           "#ab63fa",
           "#FFA15A",
           "#19d3f3",
           "#FF6692",
           "#B6E880",
           "#FF97FF",
           "#FECB52"
          ],
          "font": {
           "color": "#2a3f5f"
          },
          "geo": {
           "bgcolor": "white",
           "lakecolor": "white",
           "landcolor": "#E5ECF6",
           "showlakes": true,
           "showland": true,
           "subunitcolor": "white"
          },
          "hoverlabel": {
           "align": "left"
          },
          "hovermode": "closest",
          "mapbox": {
           "style": "light"
          },
          "paper_bgcolor": "white",
          "plot_bgcolor": "#E5ECF6",
          "polar": {
           "angularaxis": {
            "gridcolor": "white",
            "linecolor": "white",
            "ticks": ""
           },
           "bgcolor": "#E5ECF6",
           "radialaxis": {
            "gridcolor": "white",
            "linecolor": "white",
            "ticks": ""
           }
          },
          "scene": {
           "xaxis": {
            "backgroundcolor": "#E5ECF6",
            "gridcolor": "white",
            "gridwidth": 2,
            "linecolor": "white",
            "showbackground": true,
            "ticks": "",
            "zerolinecolor": "white"
           },
           "yaxis": {
            "backgroundcolor": "#E5ECF6",
            "gridcolor": "white",
            "gridwidth": 2,
            "linecolor": "white",
            "showbackground": true,
            "ticks": "",
            "zerolinecolor": "white"
           },
           "zaxis": {
            "backgroundcolor": "#E5ECF6",
            "gridcolor": "white",
            "gridwidth": 2,
            "linecolor": "white",
            "showbackground": true,
            "ticks": "",
            "zerolinecolor": "white"
           }
          },
          "shapedefaults": {
           "line": {
            "color": "#2a3f5f"
           }
          },
          "ternary": {
           "aaxis": {
            "gridcolor": "white",
            "linecolor": "white",
            "ticks": ""
           },
           "baxis": {
            "gridcolor": "white",
            "linecolor": "white",
            "ticks": ""
           },
           "bgcolor": "#E5ECF6",
           "caxis": {
            "gridcolor": "white",
            "linecolor": "white",
            "ticks": ""
           }
          },
          "title": {
           "x": 0.05
          },
          "xaxis": {
           "automargin": true,
           "gridcolor": "white",
           "linecolor": "white",
           "ticks": "",
           "title": {
            "standoff": 15
           },
           "zerolinecolor": "white",
           "zerolinewidth": 2
          },
          "yaxis": {
           "automargin": true,
           "gridcolor": "white",
           "linecolor": "white",
           "ticks": "",
           "title": {
            "standoff": 15
           },
           "zerolinecolor": "white",
           "zerolinewidth": 2
          }
         }
        },
        "title": {
         "text": "Number of Images Tagged by GPU"
        },
        "xaxis": {
         "anchor": "y",
         "domain": [
          0,
          1
         ],
         "title": {
          "text": "x-gpu-name"
         }
        },
        "yaxis": {
         "anchor": "x",
         "domain": [
          0,
          1
         ],
         "title": {
          "text": "count"
         }
        }
       }
      },
      "text/html": [
       "<div>                            <div id=\"8eb63e68-eecd-457a-9cc4-4a3499009787\" class=\"plotly-graph-div\" style=\"height:525px; width:100%;\"></div>            <script type=\"text/javascript\">                require([\"plotly\"], function(Plotly) {                    window.PLOTLYENV=window.PLOTLYENV || {};                                    if (document.getElementById(\"8eb63e68-eecd-457a-9cc4-4a3499009787\")) {                    Plotly.newPlot(                        \"8eb63e68-eecd-457a-9cc4-4a3499009787\",                        [{\"alignmentgroup\":\"True\",\"hovertemplate\":\"x-gpu-name=%{x}\\u003cbr\\u003ecount=%{y}\\u003cextra\\u003e\\u003c\\u002fextra\\u003e\",\"legendgroup\":\"\",\"marker\":{\"color\":\"#636efa\",\"pattern\":{\"shape\":\"\"}},\"name\":\"\",\"offsetgroup\":\"\",\"orientation\":\"v\",\"showlegend\":false,\"textposition\":\"auto\",\"x\":[\"RTX 2080\",\"RTX 2080 SUPER\",\"RTX 2080 Ti\",\"RTX 3060\",\"RTX 3060 Ti\",\"RTX 3070\",\"RTX 3070 Laptop GPU\",\"RTX 3070 Ti\",\"RTX 3080\",\"RTX 3080 Laptop GPU\",\"RTX 3080 Ti\",\"RTX 3090\",\"RTX 4060\",\"RTX 4060 Laptop GPU\",\"RTX 4060 Ti\",\"RTX 4070\",\"RTX 4070 Laptop GPU\",\"RTX 4070 Ti\",\"RTX 4080\",\"RTX 4090\"],\"xaxis\":\"x\",\"y\":[1323,1207,1880,74100,9346,18136,1691,2323,6219,220,4017,2007,4632,30,5315,6351,448,2449,2268,523],\"yaxis\":\"y\",\"type\":\"bar\"}],                        {\"template\":{\"data\":{\"histogram2dcontour\":[{\"type\":\"histogram2dcontour\",\"colorbar\":{\"outlinewidth\":0,\"ticks\":\"\"},\"colorscale\":[[0.0,\"#0d0887\"],[0.1111111111111111,\"#46039f\"],[0.2222222222222222,\"#7201a8\"],[0.3333333333333333,\"#9c179e\"],[0.4444444444444444,\"#bd3786\"],[0.5555555555555556,\"#d8576b\"],[0.6666666666666666,\"#ed7953\"],[0.7777777777777778,\"#fb9f3a\"],[0.8888888888888888,\"#fdca26\"],[1.0,\"#f0f921\"]]}],\"choropleth\":[{\"type\":\"choropleth\",\"colorbar\":{\"outlinewidth\":0,\"ticks\":\"\"}}],\"histogram2d\":[{\"type\":\"histogram2d\",\"colorbar\":{\"outlinewidth\":0,\"ticks\":\"\"},\"colorscale\":[[0.0,\"#0d0887\"],[0.1111111111111111,\"#46039f\"],[0.2222222222222222,\"#7201a8\"],[0.3333333333333333,\"#9c179e\"],[0.4444444444444444,\"#bd3786\"],[0.5555555555555556,\"#d8576b\"],[0.6666666666666666,\"#ed7953\"],[0.7777777777777778,\"#fb9f3a\"],[0.8888888888888888,\"#fdca26\"],[1.0,\"#f0f921\"]]}],\"heatmap\":[{\"type\":\"heatmap\",\"colorbar\":{\"outlinewidth\":0,\"ticks\":\"\"},\"colorscale\":[[0.0,\"#0d0887\"],[0.1111111111111111,\"#46039f\"],[0.2222222222222222,\"#7201a8\"],[0.3333333333333333,\"#9c179e\"],[0.4444444444444444,\"#bd3786\"],[0.5555555555555556,\"#d8576b\"],[0.6666666666666666,\"#ed7953\"],[0.7777777777777778,\"#fb9f3a\"],[0.8888888888888888,\"#fdca26\"],[1.0,\"#f0f921\"]]}],\"heatmapgl\":[{\"type\":\"heatmapgl\",\"colorbar\":{\"outlinewidth\":0,\"ticks\":\"\"},\"colorscale\":[[0.0,\"#0d0887\"],[0.1111111111111111,\"#46039f\"],[0.2222222222222222,\"#7201a8\"],[0.3333333333333333,\"#9c179e\"],[0.4444444444444444,\"#bd3786\"],[0.5555555555555556,\"#d8576b\"],[0.6666666666666666,\"#ed7953\"],[0.7777777777777778,\"#fb9f3a\"],[0.8888888888888888,\"#fdca26\"],[1.0,\"#f0f921\"]]}],\"contourcarpet\":[{\"type\":\"contourcarpet\",\"colorbar\":{\"outlinewidth\":0,\"ticks\":\"\"}}],\"contour\":[{\"type\":\"contour\",\"colorbar\":{\"outlinewidth\":0,\"ticks\":\"\"},\"colorscale\":[[0.0,\"#0d0887\"],[0.1111111111111111,\"#46039f\"],[0.2222222222222222,\"#7201a8\"],[0.3333333333333333,\"#9c179e\"],[0.4444444444444444,\"#bd3786\"],[0.5555555555555556,\"#d8576b\"],[0.6666666666666666,\"#ed7953\"],[0.7777777777777778,\"#fb9f3a\"],[0.8888888888888888,\"#fdca26\"],[1.0,\"#f0f921\"]]}],\"surface\":[{\"type\":\"surface\",\"colorbar\":{\"outlinewidth\":0,\"ticks\":\"\"},\"colorscale\":[[0.0,\"#0d0887\"],[0.1111111111111111,\"#46039f\"],[0.2222222222222222,\"#7201a8\"],[0.3333333333333333,\"#9c179e\"],[0.4444444444444444,\"#bd3786\"],[0.5555555555555556,\"#d8576b\"],[0.6666666666666666,\"#ed7953\"],[0.7777777777777778,\"#fb9f3a\"],[0.8888888888888888,\"#fdca26\"],[1.0,\"#f0f921\"]]}],\"mesh3d\":[{\"type\":\"mesh3d\",\"colorbar\":{\"outlinewidth\":0,\"ticks\":\"\"}}],\"scatter\":[{\"fillpattern\":{\"fillmode\":\"overlay\",\"size\":10,\"solidity\":0.2},\"type\":\"scatter\"}],\"parcoords\":[{\"type\":\"parcoords\",\"line\":{\"colorbar\":{\"outlinewidth\":0,\"ticks\":\"\"}}}],\"scatterpolargl\":[{\"type\":\"scatterpolargl\",\"marker\":{\"colorbar\":{\"outlinewidth\":0,\"ticks\":\"\"}}}],\"bar\":[{\"error_x\":{\"color\":\"#2a3f5f\"},\"error_y\":{\"color\":\"#2a3f5f\"},\"marker\":{\"line\":{\"color\":\"#E5ECF6\",\"width\":0.5},\"pattern\":{\"fillmode\":\"overlay\",\"size\":10,\"solidity\":0.2}},\"type\":\"bar\"}],\"scattergeo\":[{\"type\":\"scattergeo\",\"marker\":{\"colorbar\":{\"outlinewidth\":0,\"ticks\":\"\"}}}],\"scatterpolar\":[{\"type\":\"scatterpolar\",\"marker\":{\"colorbar\":{\"outlinewidth\":0,\"ticks\":\"\"}}}],\"histogram\":[{\"marker\":{\"pattern\":{\"fillmode\":\"overlay\",\"size\":10,\"solidity\":0.2}},\"type\":\"histogram\"}],\"scattergl\":[{\"type\":\"scattergl\",\"marker\":{\"colorbar\":{\"outlinewidth\":0,\"ticks\":\"\"}}}],\"scatter3d\":[{\"type\":\"scatter3d\",\"line\":{\"colorbar\":{\"outlinewidth\":0,\"ticks\":\"\"}},\"marker\":{\"colorbar\":{\"outlinewidth\":0,\"ticks\":\"\"}}}],\"scattermapbox\":[{\"type\":\"scattermapbox\",\"marker\":{\"colorbar\":{\"outlinewidth\":0,\"ticks\":\"\"}}}],\"scatterternary\":[{\"type\":\"scatterternary\",\"marker\":{\"colorbar\":{\"outlinewidth\":0,\"ticks\":\"\"}}}],\"scattercarpet\":[{\"type\":\"scattercarpet\",\"marker\":{\"colorbar\":{\"outlinewidth\":0,\"ticks\":\"\"}}}],\"carpet\":[{\"aaxis\":{\"endlinecolor\":\"#2a3f5f\",\"gridcolor\":\"white\",\"linecolor\":\"white\",\"minorgridcolor\":\"white\",\"startlinecolor\":\"#2a3f5f\"},\"baxis\":{\"endlinecolor\":\"#2a3f5f\",\"gridcolor\":\"white\",\"linecolor\":\"white\",\"minorgridcolor\":\"white\",\"startlinecolor\":\"#2a3f5f\"},\"type\":\"carpet\"}],\"table\":[{\"cells\":{\"fill\":{\"color\":\"#EBF0F8\"},\"line\":{\"color\":\"white\"}},\"header\":{\"fill\":{\"color\":\"#C8D4E3\"},\"line\":{\"color\":\"white\"}},\"type\":\"table\"}],\"barpolar\":[{\"marker\":{\"line\":{\"color\":\"#E5ECF6\",\"width\":0.5},\"pattern\":{\"fillmode\":\"overlay\",\"size\":10,\"solidity\":0.2}},\"type\":\"barpolar\"}],\"pie\":[{\"automargin\":true,\"type\":\"pie\"}]},\"layout\":{\"autotypenumbers\":\"strict\",\"colorway\":[\"#636efa\",\"#EF553B\",\"#00cc96\",\"#ab63fa\",\"#FFA15A\",\"#19d3f3\",\"#FF6692\",\"#B6E880\",\"#FF97FF\",\"#FECB52\"],\"font\":{\"color\":\"#2a3f5f\"},\"hovermode\":\"closest\",\"hoverlabel\":{\"align\":\"left\"},\"paper_bgcolor\":\"white\",\"plot_bgcolor\":\"#E5ECF6\",\"polar\":{\"bgcolor\":\"#E5ECF6\",\"angularaxis\":{\"gridcolor\":\"white\",\"linecolor\":\"white\",\"ticks\":\"\"},\"radialaxis\":{\"gridcolor\":\"white\",\"linecolor\":\"white\",\"ticks\":\"\"}},\"ternary\":{\"bgcolor\":\"#E5ECF6\",\"aaxis\":{\"gridcolor\":\"white\",\"linecolor\":\"white\",\"ticks\":\"\"},\"baxis\":{\"gridcolor\":\"white\",\"linecolor\":\"white\",\"ticks\":\"\"},\"caxis\":{\"gridcolor\":\"white\",\"linecolor\":\"white\",\"ticks\":\"\"}},\"coloraxis\":{\"colorbar\":{\"outlinewidth\":0,\"ticks\":\"\"}},\"colorscale\":{\"sequential\":[[0.0,\"#0d0887\"],[0.1111111111111111,\"#46039f\"],[0.2222222222222222,\"#7201a8\"],[0.3333333333333333,\"#9c179e\"],[0.4444444444444444,\"#bd3786\"],[0.5555555555555556,\"#d8576b\"],[0.6666666666666666,\"#ed7953\"],[0.7777777777777778,\"#fb9f3a\"],[0.8888888888888888,\"#fdca26\"],[1.0,\"#f0f921\"]],\"sequentialminus\":[[0.0,\"#0d0887\"],[0.1111111111111111,\"#46039f\"],[0.2222222222222222,\"#7201a8\"],[0.3333333333333333,\"#9c179e\"],[0.4444444444444444,\"#bd3786\"],[0.5555555555555556,\"#d8576b\"],[0.6666666666666666,\"#ed7953\"],[0.7777777777777778,\"#fb9f3a\"],[0.8888888888888888,\"#fdca26\"],[1.0,\"#f0f921\"]],\"diverging\":[[0,\"#8e0152\"],[0.1,\"#c51b7d\"],[0.2,\"#de77ae\"],[0.3,\"#f1b6da\"],[0.4,\"#fde0ef\"],[0.5,\"#f7f7f7\"],[0.6,\"#e6f5d0\"],[0.7,\"#b8e186\"],[0.8,\"#7fbc41\"],[0.9,\"#4d9221\"],[1,\"#276419\"]]},\"xaxis\":{\"gridcolor\":\"white\",\"linecolor\":\"white\",\"ticks\":\"\",\"title\":{\"standoff\":15},\"zerolinecolor\":\"white\",\"automargin\":true,\"zerolinewidth\":2},\"yaxis\":{\"gridcolor\":\"white\",\"linecolor\":\"white\",\"ticks\":\"\",\"title\":{\"standoff\":15},\"zerolinecolor\":\"white\",\"automargin\":true,\"zerolinewidth\":2},\"scene\":{\"xaxis\":{\"backgroundcolor\":\"#E5ECF6\",\"gridcolor\":\"white\",\"linecolor\":\"white\",\"showbackground\":true,\"ticks\":\"\",\"zerolinecolor\":\"white\",\"gridwidth\":2},\"yaxis\":{\"backgroundcolor\":\"#E5ECF6\",\"gridcolor\":\"white\",\"linecolor\":\"white\",\"showbackground\":true,\"ticks\":\"\",\"zerolinecolor\":\"white\",\"gridwidth\":2},\"zaxis\":{\"backgroundcolor\":\"#E5ECF6\",\"gridcolor\":\"white\",\"linecolor\":\"white\",\"showbackground\":true,\"ticks\":\"\",\"zerolinecolor\":\"white\",\"gridwidth\":2}},\"shapedefaults\":{\"line\":{\"color\":\"#2a3f5f\"}},\"annotationdefaults\":{\"arrowcolor\":\"#2a3f5f\",\"arrowhead\":0,\"arrowwidth\":1},\"geo\":{\"bgcolor\":\"white\",\"landcolor\":\"#E5ECF6\",\"subunitcolor\":\"white\",\"showland\":true,\"showlakes\":true,\"lakecolor\":\"white\"},\"title\":{\"x\":0.05},\"mapbox\":{\"style\":\"light\"}}},\"xaxis\":{\"anchor\":\"y\",\"domain\":[0.0,1.0],\"title\":{\"text\":\"x-gpu-name\"}},\"yaxis\":{\"anchor\":\"x\",\"domain\":[0.0,1.0],\"title\":{\"text\":\"count\"}},\"legend\":{\"tracegroupgap\":0},\"title\":{\"text\":\"Number of Images Tagged by GPU\"},\"barmode\":\"relative\"},                        {\"responsive\": true}                    ).then(function(){\n",
       "                            \n",
       "var gd = document.getElementById('8eb63e68-eecd-457a-9cc4-4a3499009787');\n",
       "var x = new MutationObserver(function (mutations, observer) {{\n",
       "        var display = window.getComputedStyle(gd).display;\n",
       "        if (!display || display === 'none') {{\n",
       "            console.log([gd, 'removed!']);\n",
       "            Plotly.purge(gd);\n",
       "            observer.disconnect();\n",
       "        }}\n",
       "}});\n",
       "\n",
       "// Listen for the removal of the full notebook cells\n",
       "var notebookContainer = gd.closest('#notebook-container');\n",
       "if (notebookContainer) {{\n",
       "    x.observe(notebookContainer, {childList: true});\n",
       "}}\n",
       "\n",
       "// Listen for the clearing of the current output cell\n",
       "var outputEl = gd.closest('.output');\n",
       "if (outputEl) {{\n",
       "    x.observe(outputEl, {childList: true});\n",
       "}}\n",
       "\n",
       "                        })                };                });            </script>        </div>"
      ]
     },
     "metadata": {},
     "output_type": "display_data"
    }
   ],
   "source": [
    "import plotly.express as px\n",
    "\n",
    "# Getting the value counts\n",
    "gpu_type_counts = df[\"x-gpu-name\"].value_counts()\n",
    "\n",
    "# Convert the Series to DataFrame and reset the index\n",
    "gpu_type_counts_df = gpu_type_counts.reset_index()\n",
    "gpu_type_counts_df.columns = ['x-gpu-name', 'count']\n",
    "\n",
    "# Removing \"NVIDIA GeForce\" from the GPU names\n",
    "gpu_type_counts_df['x-gpu-name'] = gpu_type_counts_df['x-gpu-name'].str.replace('NVIDIA GeForce ', '')\n",
    "\n",
    "# Sort the DataFrame by 'x-gpu-name'\n",
    "gpu_type_counts_df = gpu_type_counts_df.sort_values(by='x-gpu-name')\n",
    "\n",
    "# Create the bar graph\n",
    "fig = px.bar(gpu_type_counts_df, x='x-gpu-name', y='count', title=\"Number of Images Tagged by GPU\")\n",
    "\n",
    "# Show the figure\n",
    "fig.show()\n",
    "\n",
    "fig.update_layout(\n",
    "    title_text=f\"Number of Images Tagged by GPU\",\n",
    "    title_font=dict(size=32),\n",
    "    xaxis_title=\"GPU\",\n",
    "    xaxis_title_font=dict(size=24),\n",
    "    yaxis_title=\"Images Tagged\",\n",
    "    yaxis_title_font=dict(size=24),\n",
    "    xaxis=dict(tickfont=dict(size=18)),\n",
    "    yaxis=dict(tickfont=dict(size=18)),\n",
    ")\n",
    "fig.write_image(\"gpu_type_counts.jpg\", width=1920, height=768)\n"
   ]
  },
  {
   "cell_type": "code",
   "execution_count": null,
   "metadata": {},
   "outputs": [],
   "source": []
  }
 ],
 "metadata": {
  "kernelspec": {
   "display_name": ".venv",
   "language": "python",
   "name": "python3"
  },
  "language_info": {
   "codemirror_mode": {
    "name": "ipython",
    "version": 3
   },
   "file_extension": ".py",
   "mimetype": "text/x-python",
   "name": "python",
   "nbconvert_exporter": "python",
   "pygments_lexer": "ipython3",
   "version": "3.10.12"
  }
 },
 "nbformat": 4,
 "nbformat_minor": 2
}
